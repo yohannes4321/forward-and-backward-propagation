{
  "nbformat": 4,
  "nbformat_minor": 0,
  "metadata": {
    "colab": {
      "provenance": []
    },
    "kernelspec": {
      "name": "python3",
      "display_name": "Python 3"
    },
    "language_info": {
      "name": "python"
    }
  },
  "cells": [
    {
      "cell_type": "markdown",
      "source": [
        "Understanding the logic of backward propagation implementing from scrach using python"
      ],
      "metadata": {
        "id": "4Fz1nXZTblpV"
      }
    },
    {
      "cell_type": "code",
      "execution_count": 2,
      "metadata": {
        "id": "YVUdCbezBAf7"
      },
      "outputs": [],
      "source": [
        "import numpy as np\n"
      ]
    },
    {
      "cell_type": "code",
      "source": [],
      "metadata": {
        "id": "N93_ISjDbw_E"
      },
      "execution_count": 2,
      "outputs": []
    },
    {
      "cell_type": "markdown",
      "source": [
        "x=(hours of sleeping,hours studying) y=test score of student"
      ],
      "metadata": {
        "id": "m1Q7qxevp9qe"
      }
    },
    {
      "cell_type": "code",
      "source": [
        "x=np.array(([2,9],[1,5],[3,6]),dtype=float)\n",
        "y=np.array(([92],[86],[89]),dtype=float)\n",
        "\n",
        "#scale the unit\n",
        "x=x/np.max(x,axis=0)\n",
        "y=y/100  #max test score is 100\n",
        "print(x,y)\n"
      ],
      "metadata": {
        "id": "x0QmNth_CsWf",
        "colab": {
          "base_uri": "https://localhost:8080/"
        },
        "outputId": "72cd1eee-e14b-4edf-ef02-3ec8bc5c42fe"
      },
      "execution_count": 4,
      "outputs": [
        {
          "output_type": "stream",
          "name": "stdout",
          "text": [
            "[[0.66666667 1.        ]\n",
            " [0.33333333 0.55555556]\n",
            " [1.         0.66666667]] [[0.92]\n",
            " [0.86]\n",
            " [0.89]]\n"
          ]
        }
      ]
    },
    {
      "cell_type": "markdown",
      "source": [
        " Forward Propagation\n"
      ],
      "metadata": {
        "id": "YCQJslHZEHGH"
      }
    },
    {
      "cell_type": "code",
      "source": [
        "class NeuralNetwork(object):\n",
        "  def __init__(self):\n",
        "    self.inputSize=2\n",
        "    self.outputSize=1\n",
        "    self.hiddenSize=3\n",
        "    #weight random\n",
        "    self.w1=np.random.randn(self.inputSize,self.hiddenSize)\n",
        "    self.w2=np.random.randn(self.hiddenSize,self.outputSize)\n",
        "  def forward_propagation(self,x):\n",
        "    self.z1=np.dot(x,self.w1)\n",
        "    self.z2=self.sigmoid(self.z1)\n",
        "    self.z3=np.dot(self.z2,self.w2)\n",
        "    output=self.sigmoid(self.z3)\n",
        "    return output\n",
        "  def sigmoid(self,s,drive=False):\n",
        "    if drive:\n",
        "      return s*(1 - s)# we use this for backpropagation to get the tangent of slope\n",
        "    return 1/(1+np.exp(-s))\n",
        "  def backward_propagation(self,x,y,output):\n",
        "    #backward propagate to the network to calculate the sum of the square and minmize\n",
        "    self.output_error=y-output\n",
        "    self.output_delta=self.output_error *self.sigmoid(output,drive=True)\n",
        "\n",
        "    self.z2_error=np.dot(self.output_delta,self.w2.T)# how much hidden layer weight contrubute in output\n",
        "    # this comes from chain rule and patrial dervative\n",
        "\n",
        "    self.z2_delta=self.z2_error* self.sigmoid(self.z2,drive=True)\n",
        "    self.w1+=x.T.dot(self.z2_delta)\n",
        "    self.w2+=self.z2.T.dot(self.output_delta)\n",
        "  def train(self,x,y):\n",
        "    output=self.forward_propagation(x)\n",
        "    self.backward_propagation(x,y,output)\n",
        "NN=NeuralNetwork()\n",
        "for i in range(1000):\n",
        "  NN.train(x,y)\n",
        "\n",
        "\n",
        "\n",
        "\n",
        "\n"
      ],
      "metadata": {
        "id": "jx5uYDnkDPLt"
      },
      "execution_count": 6,
      "outputs": []
    },
    {
      "cell_type": "markdown",
      "source": [],
      "metadata": {
        "id": "y_cjmn1abkXs"
      }
    },
    {
      "cell_type": "code",
      "source": [
        " #forward only\n",
        "forward = NN.forward_propagation(x)\n",
        "forward_loss = np.mean(np.square(y - forward))\n",
        "forward_accuracy = np.mean((forward > 0.5)== (y > 0.5))* 100  # Accuracy as a percentage\n",
        "forward_precision = np.mean(np.abs(forward - y))  # Precision (absolute error)\n",
        "#after training forward and backward\n",
        "NN.train(x, y)\n",
        "\n",
        "#compare\n",
        "final_output = NN.forward_propagation(x)\n",
        "final_loss = np.mean(np.square(y - final_output))\n",
        "final_accuracy = np.mean((final_output > 0.5) == (y > 0.5)) * 100\n",
        "final_precision = np.mean(np.abs(final_output - y))\n",
        "\n",
        "\n",
        "\n",
        "print(\"only forward prop\")\n",
        "print(\"predicted output\", forward)\n",
        "print(f\"loss {forward_loss:.6f}\")\n",
        "print(f\"accuracy {forward_accuracy:.2f}%\")\n",
        "print(f\"precision  {forward_precision:.6f}\")\n",
        "\n",
        "print(\"forward and backward \")\n",
        "print(\"predicted output:\\n\", final_output)\n",
        "print(f\"loss: {final_loss:.6f}\")\n",
        "print(f\"accuracy: {final_accuracy:.2f}%\")\n",
        "print(f\"precision (Error): {final_precision:.6f}\")\n",
        "\n",
        "print(\"compare the the two\")\n",
        "print(f\"loss reduction{forward_loss - final_loss:.6f}\")\n",
        "print(f\"accuracy improvemen{final_accuracy - forward_accuracy:.2f}%\")\n",
        "print(f\"Precision Improvement{forward_precision - forward_precision:.6f}\")"
      ],
      "metadata": {
        "colab": {
          "base_uri": "https://localhost:8080/"
        },
        "id": "Hi5QC8c2EC4L",
        "outputId": "3e2da9c6-6498-420b-8c26-23bb186e5a0c"
      },
      "execution_count": 10,
      "outputs": [
        {
          "output_type": "stream",
          "name": "stdout",
          "text": [
            "only forward prop\n",
            "predicted output [[0.89620183]\n",
            " [0.87104966]\n",
            " [0.90235538]]\n",
            "loss 0.000280\n",
            "accuracy 100.00%\n",
            "precision  0.015734\n",
            "forward and backward \n",
            "predicted output:\n",
            " [[0.89620325]\n",
            " [0.87104777]\n",
            " [0.90235564]]\n",
            "loss: 0.000280\n",
            "accuracy: 100.00%\n",
            "precision (Error): 0.015733\n",
            "compare the the two\n",
            "loss reduction0.000000\n",
            "accuracy improvemen0.00%\n",
            "Precision Improvement0.000000\n"
          ]
        }
      ]
    },
    {
      "cell_type": "code",
      "source": [],
      "metadata": {
        "id": "mAFeB9_fExsK"
      },
      "execution_count": null,
      "outputs": []
    }
  ]
}