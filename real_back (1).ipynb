{
  "cells": [
    {
      "cell_type": "code",
      "execution_count": null,
      "metadata": {
        "id": "mhy2rTYclDdB"
      },
      "outputs": [],
      "source": [
        "import numpy as np\n",
        "import pandas as pd\n",
        "from sklearn.neural_network import MLPClassifier\n",
        "from sklearn.model_selection import train_test_split\n",
        "from sklearn.metrics import accuracy_score,  mean_squared_error"
      ]
    },
    {
      "cell_type": "markdown",
      "metadata": {
        "id": "6miu2gVAlg4i"
      },
      "source": [
        " Load the Data"
      ]
    },
    {
      "cell_type": "code",
      "execution_count": null,
      "metadata": {
        "id": "Y71sUnSmlJOY"
      },
      "outputs": [],
      "source": [
        "data = pd.read_csv('/content/drive/MyDrive/mnist.csv')"
      ]
    },
    {
      "cell_type": "markdown",
      "metadata": {
        "id": "Ec-LUTOkoKK6"
      },
      "source": [
        "Data Cleaning"
      ]
    },
    {
      "cell_type": "code",
      "execution_count": null,
      "metadata": {
        "id": "tfwDQkEPly4J"
      },
      "outputs": [],
      "source": [
        "data = data.dropna()"
      ]
    },
    {
      "cell_type": "code",
      "execution_count": null,
      "metadata": {
        "id": "IfNss0_goMKm"
      },
      "outputs": [],
      "source": [
        "#normalize the range\n",
        "df_x = data.iloc[:, 1:] / 255.0\n",
        "df_y = data.iloc[:, 0]"
      ]
    },
    {
      "cell_type": "code",
      "execution_count": null,
      "metadata": {
        "id": "MrUzwzTzoSJA"
      },
      "outputs": [],
      "source": [
        "x_train, x_test, y_train, y_test = train_test_split(df_x, df_y, test_size=0.2, random_state=4)"
      ]
    },
    {
      "cell_type": "markdown",
      "metadata": {
        "id": "IQ-SwY69pZSz"
      },
      "source": [
        "multilayer perceptron classifier\n",
        "logistic sigmoid activation 1 /(1+e^(-x))  O and 1\n",
        "\n",
        "sgd is stochastic gradient descent update the weighs with small batch of data  computationally efficient but may converge slowly.\n",
        "\n",
        "first hidden layer 10 neuron and second hidden 15 nenorun\n",
        "random_state=1 fixes random seed for consistent data"
      ]
    },
    {
      "cell_type": "code",
      "execution_count": null,
      "metadata": {
        "id": "YhjlpTE2oXeS"
      },
      "outputs": [],
      "source": [
        "nn = MLPClassifier(activation='logistic', solver='sgd', hidden_layer_sizes=(10, 15), random_state=1, max_iter=200)"
      ]
    },
    {
      "cell_type": "code",
      "execution_count": null,
      "metadata": {
        "id": "BKz7wtqioaOX"
      },
      "outputs": [],
      "source": [
        "nn.partial_fit(x_train, y_train, classes=np.unique(y_train))   \n",
        "forward_pred = nn.predict(x_test)\n",
        "forward_loss = mean_squared_error(y_test, nn.predict(x_test))  \n",
        "forward_accuracy = accuracy_score(y_test, forward_pred)\n",
        "\n",
        " \n",
        "nn.fit(x_train, y_train)\n",
        "trained_pred = nn.predict(x_test)\n",
        "trained_loss = mean_squared_error(y_test, nn.predict(x_test))   \n",
        "trained_accuracy = accuracy_score(y_test, trained_pred)\n"
      ]
    },
    {
      "cell_type": "code",
      "execution_count": null,
      "metadata": {
        "id": "QY9oSREMogmG"
      },
      "outputs": [],
      "source": [
        "\n",
        "print(\"forward propagation only  \")\n",
        "print(f\"loss: {forward_loss:.6f}\")\n",
        "print(f\"accuracy: {forward_accuracy:.4f}\")\n",
        "print(\"forward and backward propagation  \")\n",
        "print(f\"loss: {trained_loss:.6f}\")\n",
        "print(f\"accuracy: {trained_accuracy:.4f}\")\n",
        "\n",
        "print(\"compare\")\n",
        "print(f\"loss reduction: {forward_loss - trained_loss:.6f}\")\n",
        "print(f\"accuracy improvement: {trained_accuracy - forward_accuracy:.4f}\")"
      ]
    },
    {
      "cell_type": "code",
      "execution_count": null,
      "metadata": {
        "id": "swSDFXeoqNhX"
      },
      "outputs": [],
      "source": []
    }
  ],
  "metadata": {
    "colab": {
      "private_outputs": true,
      "provenance": []
    },
    "kernelspec": {
      "display_name": "Python 3",
      "name": "python3"
    },
    "language_info": {
      "name": "python"
    }
  },
  "nbformat": 4,
  "nbformat_minor": 0
}
